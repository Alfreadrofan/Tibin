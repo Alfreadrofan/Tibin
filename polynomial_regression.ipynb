{
  "nbformat": 4,
  "nbformat_minor": 0,
  "metadata": {
    "colab": {
      "name": "polynomial_regression.ipynb",
      "provenance": [],
      "collapsed_sections": [],
      "authorship_tag": "ABX9TyPti1tgU7U4VEOM7IoGGihl",
      "include_colab_link": true
    },
    "kernelspec": {
      "name": "python3",
      "display_name": "Python 3"
    },
    "language_info": {
      "name": "python"
    }
  },
  "cells": [
    {
      "cell_type": "markdown",
      "metadata": {
        "id": "view-in-github",
        "colab_type": "text"
      },
      "source": [
        "<a href=\"https://colab.research.google.com/github/Alfreadrofan/Tibin/blob/main/polynomial_regression.ipynb\" target=\"_parent\"><img src=\"https://colab.research.google.com/assets/colab-badge.svg\" alt=\"Open In Colab\"/></a>"
      ]
    },
    {
      "cell_type": "code",
      "execution_count": 1,
      "metadata": {
        "id": "mCB563TbTUU8"
      },
      "outputs": [],
      "source": [
        "# importing libraries \n",
        "import os \n",
        "import numpy as nm  \n",
        "import matplotlib.pyplot as mtp  \n",
        "import pandas as pd\n",
        "from google.colab import drive"
      ]
    },
    {
      "cell_type": "code",
      "source": [
        "drive.mount('/content/drive') "
      ],
      "metadata": {
        "colab": {
          "base_uri": "https://localhost:8080/"
        },
        "id": "fCn9D_nDW5sO",
        "outputId": "abaf0ac0-c6d2-4950-d1d7-ed978ea2bf14"
      },
      "execution_count": 2,
      "outputs": [
        {
          "output_type": "stream",
          "name": "stdout",
          "text": [
            "Mounted at /content/drive\n"
          ]
        }
      ]
    },
    {
      "cell_type": "code",
      "source": [
        "os.chdir(\"/content/drive/MyDrive/Colab Notebooks/\")"
      ],
      "metadata": {
        "id": "g_WvO-nVXJG0"
      },
      "execution_count": 3,
      "outputs": []
    },
    {
      "cell_type": "code",
      "source": [
        "dataset=pd.read_csv(\"Position_Salaries.csv\")"
      ],
      "metadata": {
        "id": "J7eMULhkXOSo"
      },
      "execution_count": 4,
      "outputs": []
    },
    {
      "cell_type": "code",
      "source": [
        "#Extracting Independent and dependent Variable  \n",
        "x= dataset.iloc[:, 1:2].values  \n",
        "y= dataset.iloc[:, 2].values "
      ],
      "metadata": {
        "id": "4ull6VWyXjdd"
      },
      "execution_count": 6,
      "outputs": []
    },
    {
      "cell_type": "code",
      "source": [
        "#Fitting the Linear Regression to the dataset  \n",
        "from sklearn.linear_model import LinearRegression  \n",
        "lin_regs= LinearRegression()  \n",
        "lin_regs.fit(x,y)  "
      ],
      "metadata": {
        "colab": {
          "base_uri": "https://localhost:8080/"
        },
        "id": "i_TXM7tlXvoC",
        "outputId": "925786df-ab66-4e01-a70d-70c02081279f"
      },
      "execution_count": 7,
      "outputs": [
        {
          "output_type": "execute_result",
          "data": {
            "text/plain": [
              "LinearRegression()"
            ]
          },
          "metadata": {},
          "execution_count": 7
        }
      ]
    },
    {
      "cell_type": "code",
      "source": [
        "#Fitting the Polynomial regression to the dataset  \n",
        "from sklearn.preprocessing import PolynomialFeatures  \n",
        "poly_regs= PolynomialFeatures(degree= 2)  \n",
        "x_poly= poly_regs.fit_transform(x)  \n",
        "lin_reg_2 =LinearRegression()  \n",
        "lin_reg_2.fit(x_poly, y)  "
      ],
      "metadata": {
        "colab": {
          "base_uri": "https://localhost:8080/"
        },
        "id": "-GHI8jZ0aUoL",
        "outputId": "6a9f2417-5d32-47fe-eaa2-0526ece0427d"
      },
      "execution_count": 8,
      "outputs": [
        {
          "output_type": "execute_result",
          "data": {
            "text/plain": [
              "LinearRegression()"
            ]
          },
          "metadata": {},
          "execution_count": 8
        }
      ]
    },
    {
      "cell_type": "code",
      "source": [
        "#Visulaizing the result for Linear Regression model  \n",
        "mtp.scatter(x,y,color=\"blue\")  \n",
        "mtp.plot(x,lin_regs.predict(x), color=\"red\")  \n",
        "mtp.title(\"Bluff detection model(Linear Regression)\")  \n",
        "mtp.xlabel(\"Position Levels\")  \n",
        "mtp.ylabel(\"Salary\")  \n",
        "mtp.show()  "
      ],
      "metadata": {
        "colab": {
          "base_uri": "https://localhost:8080/",
          "height": 295
        },
        "id": "wDmaKVpsaa9Q",
        "outputId": "cd67c934-4b24-42e6-b6d1-e132352d087d"
      },
      "execution_count": 9,
      "outputs": [
        {
          "output_type": "display_data",
          "data": {
            "text/plain": [
              "<Figure size 432x288 with 1 Axes>"
            ],
            "image/png": "[encoded data removed]"
          },
          "metadata": {
            "needs_background": "light"
          }
        }
      ]
    }
  ]
}